{
 "cells": [
  {
   "cell_type": "markdown",
   "metadata": {
    "colab_type": "text",
    "id": "K4f4JG1gdKqj"
   },
   "source": [
    "#AutoEncoders"
   ]
  },
  {
   "cell_type": "markdown",
   "metadata": {
    "colab_type": "text",
    "id": "1jbiqOK7dLGG"
   },
   "source": [
    "##Downloading the dataset"
   ]
  },
  {
   "cell_type": "markdown",
   "metadata": {
    "colab_type": "text",
    "id": "XL5MEkLcfRD2"
   },
   "source": [
    "###ML-100K"
   ]
  },
  {
   "cell_type": "code",
   "execution_count": 1,
   "metadata": {
    "colab": {
     "base_uri": "https://localhost:8080/",
     "height": 646
    },
    "colab_type": "code",
    "id": "rjOPzue7FCXJ",
    "outputId": "b0f0b631-51bf-49e8-9ad6-947a0bd3d832"
   },
   "outputs": [],
   "source": [
    "# !wget \"http://files.grouplens.org/datasets/movielens/ml-100k.zip\"\n",
    "# !unzip ml-100k.zip\n",
    "# !ls"
   ]
  },
  {
   "cell_type": "markdown",
   "metadata": {
    "colab_type": "text",
    "id": "9Xis6ldDfTs6"
   },
   "source": [
    "###ML-1M"
   ]
  },
  {
   "cell_type": "code",
   "execution_count": 2,
   "metadata": {
    "colab": {
     "base_uri": "https://localhost:8080/",
     "height": 323
    },
    "colab_type": "code",
    "id": "LOly1yfAfTjd",
    "outputId": "519b7fb3-4f15-4a0b-91d5-8221ee486409"
   },
   "outputs": [],
   "source": [
    "# !wget \"http://files.grouplens.org/datasets/movielens/ml-1m.zip\"\n",
    "# !unzip ml-1m.zip\n",
    "# !ls"
   ]
  },
  {
   "cell_type": "markdown",
   "metadata": {
    "colab_type": "text",
    "id": "EOBJ8UCXdY0g"
   },
   "source": [
    "##Importing the libraries"
   ]
  },
  {
   "cell_type": "code",
   "execution_count": 3,
   "metadata": {
    "colab": {},
    "colab_type": "code",
    "id": "_LvGeU1CeCtg"
   },
   "outputs": [],
   "source": [
    "import numpy as np\n",
    "import pandas as pd\n",
    "import torch\n",
    "import torch.nn as nn\n",
    "import torch.nn.parallel\n",
    "import torch.optim as optim\n",
    "import torch.utils.data\n",
    "from torch.autograd import Variable"
   ]
  },
  {
   "cell_type": "markdown",
   "metadata": {
    "colab_type": "text",
    "id": "pM04FyMudkoK"
   },
   "source": [
    "## Importing the dataset\n"
   ]
  },
  {
   "cell_type": "code",
   "execution_count": 4,
   "metadata": {
    "colab": {},
    "colab_type": "code",
    "id": "UJw2p3-Cewo4"
   },
   "outputs": [],
   "source": [
    "# We won't be using this dataset.\n",
    "movies = pd.read_csv('ml-1m/movies.dat', sep = '::', header = None, engine = 'python', encoding = 'latin-1')\n",
    "users = pd.read_csv('ml-1m/users.dat', sep = '::', header = None, engine = 'python', encoding = 'latin-1')\n",
    "ratings = pd.read_csv('ml-1m/ratings.dat', sep = '::', header = None, engine = 'python', encoding = 'latin-1')"
   ]
  },
  {
   "cell_type": "markdown",
   "metadata": {
    "colab_type": "text",
    "id": "yTIbE2tkdkwP"
   },
   "source": [
    "## Preparing the training set and the test set\n"
   ]
  },
  {
   "cell_type": "code",
   "execution_count": 5,
   "metadata": {
    "colab": {},
    "colab_type": "code",
    "id": "2usLKJBEgPE2"
   },
   "outputs": [],
   "source": [
    "training_set = pd.read_csv('ml-100k/u1.base', delimiter = '\\t')\n",
    "training_set = np.array(training_set, dtype = 'int')\n",
    "test_set = pd.read_csv('ml-100k/u1.test', delimiter = '\\t')\n",
    "test_set = np.array(test_set, dtype = 'int')"
   ]
  },
  {
   "cell_type": "markdown",
   "metadata": {
    "colab_type": "text",
    "id": "zCf8HjSydk4s"
   },
   "source": [
    "## Getting the number of users and movies\n"
   ]
  },
  {
   "cell_type": "code",
   "execution_count": 6,
   "metadata": {
    "colab": {},
    "colab_type": "code",
    "id": "gPaGZqdniC5m"
   },
   "outputs": [],
   "source": [
    "nb_users = int(max(max(training_set[:, 0], ), max(test_set[:, 0])))\n",
    "nb_movies = int(max(max(training_set[:, 1], ), max(test_set[:, 1])))"
   ]
  },
  {
   "cell_type": "markdown",
   "metadata": {
    "colab_type": "text",
    "id": "J-w4-hVidlAm"
   },
   "source": [
    "## Converting the data into an array with users in lines and movies in columns\n"
   ]
  },
  {
   "cell_type": "code",
   "execution_count": 7,
   "metadata": {
    "colab": {},
    "colab_type": "code",
    "id": "-wASs2YFiDaa"
   },
   "outputs": [],
   "source": [
    "def convert(data):\n",
    "  new_data = []\n",
    "  for id_users in range(1, nb_users + 1):\n",
    "    id_movies = data[:, 1] [data[:, 0] == id_users]\n",
    "    id_ratings = data[:, 2] [data[:, 0] == id_users]\n",
    "    ratings = np.zeros(nb_movies)\n",
    "    ratings[id_movies - 1] = id_ratings\n",
    "    new_data.append(list(ratings))\n",
    "  return new_data\n",
    "training_set = convert(training_set)\n",
    "test_set = convert(test_set)"
   ]
  },
  {
   "cell_type": "markdown",
   "metadata": {
    "colab_type": "text",
    "id": "AMmhuUpldlHo"
   },
   "source": [
    "## Converting the data into Torch tensors\n"
   ]
  },
  {
   "cell_type": "code",
   "execution_count": 8,
   "metadata": {
    "colab": {},
    "colab_type": "code",
    "id": "TwD-KD8yiEEw"
   },
   "outputs": [],
   "source": [
    "training_set = torch.FloatTensor(training_set)\n",
    "test_set = torch.FloatTensor(test_set)"
   ]
  },
  {
   "cell_type": "markdown",
   "metadata": {
    "colab_type": "text",
    "id": "6kkL8NkkdlZj"
   },
   "source": [
    "## Creating the architecture of the Neural Network\n"
   ]
  },
  {
   "cell_type": "code",
   "execution_count": 9,
   "metadata": {
    "colab": {},
    "colab_type": "code",
    "id": "oU2nyh76iE6M"
   },
   "outputs": [],
   "source": [
    "#in order to make an autoencoder we need to define a lot of things\n",
    "#first how many layers we want to have\n",
    "#how many nodes in each layer\n",
    "#activation function \n",
    "#optimization function\n",
    "#module contains several classes and a library contains multiple modules\n",
    "# we will take advantage of inheritance of the Pytorch library\n",
    "#we will make a stacked autoencoder\n",
    "#we will take the parent nn.Modules because we want all the variables and modules from the parent class\n",
    "#stacked autoencoder -> many hidden layers -> many encodings\n",
    "#in the parenthesis we will add the parent class\n",
    "class SAE(nn.Module):\n",
    "    def __init__(self, ): #we always need to define our init function. No need to add anything else other than\n",
    "        #the self because we will take advantage of the methods and variables of inheritance\n",
    "        #super will get the inheritance methods from parent class\n",
    "        super(SAE, self).__init__() \n",
    "        #full connection between the input and the first hidden layer. Shorter vector than input vector\n",
    "        #we need to use self to specify that fc1 is related to our autoencoders object\n",
    "        #linear is inherited from nn.module. First parameter is number of features. second is the num \n",
    "        #of nodes in the first hidden layer. Based on expirement we choose 20!\n",
    "        #these 20 nodes will represent some features that from unsupervised learning the AE detects\n",
    "        #from the input vector that are liked from simillar people. ex oscar or an actor\n",
    "        self.fc1 = nn.Linear(nb_movies, 20)\n",
    "        #second full connection of our hidden layer. neurons of first hidden and 10 the nodes of the second hidden\n",
    "        #it will detect more features but will be based the previous hidden layer\n",
    "        self.fc2 = nn.Linear(20, 10)\n",
    "        #since we are doing deep learning lets add a third hidden layer\n",
    "        self.fc3 = nn.Linear(10, 20)\n",
    "        #output layer with an output layer of the total movies we had in the input. \n",
    "        #in autoencoders we are reconstructing the input vector\n",
    "        self.fc4 = nn.Linear(20, nb_movies)\n",
    "        #activation function. we will define it activation. We need self. We tried rectifier and Sigmoid and\n",
    "        #we got better activation with the latter\n",
    "        #Sigmoid is taken from the parent class. \n",
    "        self.activation = nn.Sigmoid()\n",
    "        #will proceed to the different encodings and ecodings and apply the activation functions inside\n",
    "        #first argument is self. We need to put it every time and we need to use it in order to access our object\n",
    "        #second argument is our input vector.\n",
    "    def forward(self, x):\n",
    "        #self represents our object!\n",
    "        #we are activating the x in each layer \n",
    "        x = self.activation(self.fc1(x))\n",
    "        x = self.activation(self.fc2(x))\n",
    "        x = self.activation(self.fc3(x))\n",
    "        #now we are decoding and not encoding and we dont need to do an activation function since its the last node\n",
    "        x = self.fc4(x)\n",
    "        return x\n",
    "#create the object of this class. We have to use non capital letters for our object.\n",
    "#since we didn't specify any arguments during our creation process we don't have to do it now.\n",
    "sae = SAE()\n",
    "#Define the criterion we will need to use after\n",
    "#criterion for the loss function. Mean square error. Criterion will be an object of the class.\n",
    "criterion = nn.MSELoss()\n",
    "#stohastic gradient decent to lower the error after each epoch.\n",
    "#we have a class for each optimizer. one class for RMSpror, one for adam etc.\n",
    "#we did some expirement and the rmsprop was better for our model.\n",
    "#first argument -> all the parameters of our autoencoders. the parameters about the number of hidden layers\n",
    "#plus the amount of neurons each layer has and the activation function. Parameters that define the architecture of\n",
    "#our model\n",
    "#second argument ->is the learning rate. Experimental 0.01\n",
    "#third argument -> weight decay = used to reduce the learning rate after a few epochs and that's in order to regulate\n",
    "#the convergence. 0.5 based on experimenting, just like lr\n",
    "optimizer = optim.RMSprop(sae.parameters(), lr = 0.01, weight_decay = 0.5)"
   ]
  },
  {
   "cell_type": "markdown",
   "metadata": {
    "colab_type": "text",
    "id": "7gy59alAdloL"
   },
   "source": [
    "## Training the SAE\n"
   ]
  },
  {
   "cell_type": "code",
   "execution_count": 11,
   "metadata": {
    "colab": {
     "base_uri": "https://localhost:8080/",
     "height": 1000
    },
    "colab_type": "code",
    "id": "FEz9hRaciFTs",
    "outputId": "0f6ed0d0-09c4-46c0-bfe6-70031d76b491"
   },
   "outputs": [
    {
     "name": "stdout",
     "output_type": "stream",
     "text": [
      "epoch: 1loss: tensor(0.9123)\n",
      "epoch: 2loss: tensor(0.9126)\n",
      "epoch: 3loss: tensor(0.9123)\n",
      "epoch: 4loss: tensor(0.9121)\n",
      "epoch: 5loss: tensor(0.9121)\n",
      "epoch: 6loss: tensor(0.9122)\n",
      "epoch: 7loss: tensor(0.9117)\n",
      "epoch: 8loss: tensor(0.9121)\n",
      "epoch: 9loss: tensor(0.9115)\n",
      "epoch: 10loss: tensor(0.9117)\n",
      "epoch: 11loss: tensor(0.9113)\n",
      "epoch: 12loss: tensor(0.9116)\n",
      "epoch: 13loss: tensor(0.9111)\n",
      "epoch: 14loss: tensor(0.9116)\n",
      "epoch: 15loss: tensor(0.9111)\n",
      "epoch: 16loss: tensor(0.9120)\n",
      "epoch: 17loss: tensor(0.9111)\n",
      "epoch: 18loss: tensor(0.9109)\n",
      "epoch: 19loss: tensor(0.9107)\n",
      "epoch: 20loss: tensor(0.9108)\n",
      "epoch: 21loss: tensor(0.9103)\n",
      "epoch: 22loss: tensor(0.9106)\n",
      "epoch: 23loss: tensor(0.9101)\n",
      "epoch: 24loss: tensor(0.9103)\n",
      "epoch: 25loss: tensor(0.9100)\n",
      "epoch: 26loss: tensor(0.9100)\n",
      "epoch: 27loss: tensor(0.9098)\n",
      "epoch: 28loss: tensor(0.9100)\n",
      "epoch: 29loss: tensor(0.9095)\n",
      "epoch: 30loss: tensor(0.9097)\n",
      "epoch: 31loss: tensor(0.9096)\n",
      "epoch: 32loss: tensor(0.9096)\n",
      "epoch: 33loss: tensor(0.9091)\n",
      "epoch: 34loss: tensor(0.9095)\n",
      "epoch: 35loss: tensor(0.9087)\n",
      "epoch: 36loss: tensor(0.9093)\n",
      "epoch: 37loss: tensor(0.9088)\n",
      "epoch: 38loss: tensor(0.9092)\n",
      "epoch: 39loss: tensor(0.9086)\n",
      "epoch: 40loss: tensor(0.9089)\n",
      "epoch: 41loss: tensor(0.9085)\n",
      "epoch: 42loss: tensor(0.9087)\n",
      "epoch: 43loss: tensor(0.9081)\n",
      "epoch: 44loss: tensor(0.9085)\n",
      "epoch: 45loss: tensor(0.9080)\n",
      "epoch: 46loss: tensor(0.9085)\n",
      "epoch: 47loss: tensor(0.9079)\n",
      "epoch: 48loss: tensor(0.9079)\n",
      "epoch: 49loss: tensor(0.9074)\n",
      "epoch: 50loss: tensor(0.9078)\n",
      "epoch: 51loss: tensor(0.9075)\n",
      "epoch: 52loss: tensor(0.9075)\n",
      "epoch: 53loss: tensor(0.9073)\n",
      "epoch: 54loss: tensor(0.9076)\n",
      "epoch: 55loss: tensor(0.9071)\n",
      "epoch: 56loss: tensor(0.9073)\n",
      "epoch: 57loss: tensor(0.9068)\n",
      "epoch: 58loss: tensor(0.9072)\n",
      "epoch: 59loss: tensor(0.9067)\n",
      "epoch: 60loss: tensor(0.9069)\n",
      "epoch: 61loss: tensor(0.9063)\n",
      "epoch: 62loss: tensor(0.9063)\n",
      "epoch: 63loss: tensor(0.9059)\n",
      "epoch: 64loss: tensor(0.9063)\n",
      "epoch: 65loss: tensor(0.9062)\n",
      "epoch: 66loss: tensor(0.9064)\n",
      "epoch: 67loss: tensor(0.9059)\n",
      "epoch: 68loss: tensor(0.9061)\n",
      "epoch: 69loss: tensor(0.9057)\n",
      "epoch: 70loss: tensor(0.9063)\n",
      "epoch: 71loss: tensor(0.9057)\n",
      "epoch: 72loss: tensor(0.9057)\n",
      "epoch: 73loss: tensor(0.9052)\n",
      "epoch: 74loss: tensor(0.9057)\n",
      "epoch: 75loss: tensor(0.9051)\n",
      "epoch: 76loss: tensor(0.9052)\n",
      "epoch: 77loss: tensor(0.9048)\n",
      "epoch: 78loss: tensor(0.9051)\n",
      "epoch: 79loss: tensor(0.9045)\n",
      "epoch: 80loss: tensor(0.9048)\n",
      "epoch: 81loss: tensor(0.9043)\n",
      "epoch: 82loss: tensor(0.9046)\n",
      "epoch: 83loss: tensor(0.9041)\n",
      "epoch: 84loss: tensor(0.9044)\n",
      "epoch: 85loss: tensor(0.9037)\n",
      "epoch: 86loss: tensor(0.9041)\n",
      "epoch: 87loss: tensor(0.9036)\n",
      "epoch: 88loss: tensor(0.9038)\n",
      "epoch: 89loss: tensor(0.9034)\n",
      "epoch: 90loss: tensor(0.9038)\n",
      "epoch: 91loss: tensor(0.9031)\n",
      "epoch: 92loss: tensor(0.9032)\n",
      "epoch: 93loss: tensor(0.9030)\n",
      "epoch: 94loss: tensor(0.9033)\n",
      "epoch: 95loss: tensor(0.9029)\n",
      "epoch: 96loss: tensor(0.9029)\n",
      "epoch: 97loss: tensor(0.9026)\n",
      "epoch: 98loss: tensor(0.9028)\n",
      "epoch: 99loss: tensor(0.9022)\n",
      "epoch: 100loss: tensor(0.9023)\n",
      "epoch: 101loss: tensor(0.9020)\n",
      "epoch: 102loss: tensor(0.9023)\n",
      "epoch: 103loss: tensor(0.9019)\n",
      "epoch: 104loss: tensor(0.9020)\n",
      "epoch: 105loss: tensor(0.9016)\n",
      "epoch: 106loss: tensor(0.9019)\n",
      "epoch: 107loss: tensor(0.9013)\n",
      "epoch: 108loss: tensor(0.9016)\n",
      "epoch: 109loss: tensor(0.9011)\n",
      "epoch: 110loss: tensor(0.9011)\n",
      "epoch: 111loss: tensor(0.9008)\n",
      "epoch: 112loss: tensor(0.9007)\n",
      "epoch: 113loss: tensor(0.9007)\n",
      "epoch: 114loss: tensor(0.9007)\n",
      "epoch: 115loss: tensor(0.9001)\n",
      "epoch: 116loss: tensor(0.9002)\n",
      "epoch: 117loss: tensor(0.8996)\n",
      "epoch: 118loss: tensor(0.9000)\n",
      "epoch: 119loss: tensor(0.8995)\n",
      "epoch: 120loss: tensor(0.8994)\n",
      "epoch: 121loss: tensor(0.8991)\n",
      "epoch: 122loss: tensor(0.8993)\n",
      "epoch: 123loss: tensor(0.8988)\n",
      "epoch: 124loss: tensor(0.8987)\n",
      "epoch: 125loss: tensor(0.8984)\n",
      "epoch: 126loss: tensor(0.8985)\n",
      "epoch: 127loss: tensor(0.8985)\n",
      "epoch: 128loss: tensor(0.8979)\n",
      "epoch: 129loss: tensor(0.8980)\n",
      "epoch: 130loss: tensor(0.8978)\n",
      "epoch: 131loss: tensor(0.8976)\n",
      "epoch: 132loss: tensor(0.8976)\n",
      "epoch: 133loss: tensor(0.8972)\n",
      "epoch: 134loss: tensor(0.8974)\n",
      "epoch: 135loss: tensor(0.8970)\n",
      "epoch: 136loss: tensor(0.8969)\n",
      "epoch: 137loss: tensor(0.8964)\n",
      "epoch: 138loss: tensor(0.8965)\n",
      "epoch: 139loss: tensor(0.8963)\n",
      "epoch: 140loss: tensor(0.8964)\n",
      "epoch: 141loss: tensor(0.8959)\n",
      "epoch: 142loss: tensor(0.8958)\n",
      "epoch: 143loss: tensor(0.8956)\n",
      "epoch: 144loss: tensor(0.8955)\n",
      "epoch: 145loss: tensor(0.8952)\n",
      "epoch: 146loss: tensor(0.8950)\n",
      "epoch: 147loss: tensor(0.8948)\n",
      "epoch: 148loss: tensor(0.8948)\n",
      "epoch: 149loss: tensor(0.8944)\n",
      "epoch: 150loss: tensor(0.8942)\n",
      "epoch: 151loss: tensor(0.8940)\n",
      "epoch: 152loss: tensor(0.8941)\n",
      "epoch: 153loss: tensor(0.8938)\n",
      "epoch: 154loss: tensor(0.8937)\n",
      "epoch: 155loss: tensor(0.8933)\n",
      "epoch: 156loss: tensor(0.8932)\n",
      "epoch: 157loss: tensor(0.8929)\n",
      "epoch: 158loss: tensor(0.8929)\n",
      "epoch: 159loss: tensor(0.8924)\n",
      "epoch: 160loss: tensor(0.8924)\n",
      "epoch: 161loss: tensor(0.8919)\n",
      "epoch: 162loss: tensor(0.8923)\n",
      "epoch: 163loss: tensor(0.8918)\n",
      "epoch: 164loss: tensor(0.8921)\n",
      "epoch: 165loss: tensor(0.8913)\n",
      "epoch: 166loss: tensor(0.8911)\n",
      "epoch: 167loss: tensor(0.8908)\n",
      "epoch: 168loss: tensor(0.8910)\n",
      "epoch: 169loss: tensor(0.8904)\n",
      "epoch: 170loss: tensor(0.8904)\n",
      "epoch: 171loss: tensor(0.8904)\n",
      "epoch: 172loss: tensor(0.8901)\n",
      "epoch: 173loss: tensor(0.8899)\n",
      "epoch: 174loss: tensor(0.8898)\n",
      "epoch: 175loss: tensor(0.8891)\n",
      "epoch: 176loss: tensor(0.8894)\n",
      "epoch: 177loss: tensor(0.8889)\n",
      "epoch: 178loss: tensor(0.8889)\n",
      "epoch: 179loss: tensor(0.8890)\n",
      "epoch: 180loss: tensor(0.8885)\n",
      "epoch: 181loss: tensor(0.8882)\n",
      "epoch: 182loss: tensor(0.8876)\n",
      "epoch: 183loss: tensor(0.8878)\n",
      "epoch: 184loss: tensor(0.8876)\n",
      "epoch: 185loss: tensor(0.8873)\n",
      "epoch: 186loss: tensor(0.8872)\n",
      "epoch: 187loss: tensor(0.8867)\n",
      "epoch: 188loss: tensor(0.8864)\n",
      "epoch: 189loss: tensor(0.8860)\n",
      "epoch: 190loss: tensor(0.8861)\n",
      "epoch: 191loss: tensor(0.8859)\n",
      "epoch: 192loss: tensor(0.8856)\n",
      "epoch: 193loss: tensor(0.8852)\n",
      "epoch: 194loss: tensor(0.8849)\n",
      "epoch: 195loss: tensor(0.8847)\n",
      "epoch: 196loss: tensor(0.8845)\n",
      "epoch: 197loss: tensor(0.8845)\n",
      "epoch: 198loss: tensor(0.8839)\n",
      "epoch: 199loss: tensor(0.8837)\n",
      "epoch: 200loss: tensor(0.8835)\n"
     ]
    }
   ],
   "source": [
    "#we need optimized code that saves the memory if we want to do a project with a lot of ratings etc\n",
    "#define our number of epoch. Weights updated after epoch. Number is based on expirementing\n",
    "nb_epoch = 200\n",
    "#in each epoch we will loop into our all users and the ratings each user has.\n",
    "for epoch in range(1, nb_epoch + 1): #+1 because upper bound is excluded.\n",
    "  #init our train loss error\n",
    "  train_loss = 0\n",
    "  #init a counter. it will count the number of users that rated at least one movie.\n",
    "  #we don't want to computate for users that didn't give rating for any movie. 0. = float.\n",
    "  s = 0.\n",
    "  for id_user in range(nb_users): #we just want the indexes which start from 0 to 942 so we are ok with just nb_users\n",
    "    #for each user. we get the input vector that contains all the ratings \n",
    "    #take our training_set[id_user]. Pytorch cannot accept a single vector but only a batch. The functions like forward\n",
    "    #cannot take a single vector of one dimension. We need to add a fake dimension like in keras which will correspond\n",
    "    #to the batch. Pytorch tecnique. Variable function with imput training_set[id_user].\n",
    "    #. unsqueeze(index of the new dimension). means where do we want the new dimension? se poia thesi? first index\n",
    "    input = Variable(training_set[id_user]).unsqueeze(0)\n",
    "    #what about the target? We need to do the same. We will modify the origiran input and since we want \n",
    "    #the original input before the modification we will create target var. clone -> copy of input.\n",
    "    target = input.clone()\n",
    "    #MEMORY OPTIMIZATION : we won't care if our user who didn't rate any movie.\n",
    "    #take all the values of target which is the input vector and sum them up(all the ratings) larget than 0\n",
    "    #check if the sums of 1,2,3,4,5 is larger than 0. If it is then it contains at least one rating\n",
    "    if torch.sum(target.data > 0) > 0:\n",
    "        #get the ouptut vector of predicted ratings, by applying the sae in our input vector.\n",
    "      output = sae(input)\n",
    "        #we want to make sure the gradient is calculated only with respect to the input and not the target\n",
    "        #reduce the computation. Require_grad = this will make sure we don't compute the gradient with respect \n",
    "        #to the target. That optimizes our code.\n",
    "      target.require_grad = False\n",
    "        #another optimization. in the future computations of our stohasstic gradient descent we only want to include in\n",
    "        #the computation the non zero values. We don;t want to deal with the movies the user didn't rate.\n",
    "        #only for the output vector.\n",
    "        #take the values of the output such as target == 0 and zero them.\n",
    "        #these values will not count in the computation of the error and will not have an impact after we measure\n",
    "        #the error because they will not count in the rsmprop computation.\n",
    "      output[target == 0] = 0\n",
    "        #loss error.\n",
    "        #first parameter is predicted and the second one is the actual values\n",
    "      loss = criterion(output, target)\n",
    "    #number of movies / number of movies with positive rating\n",
    "    #we add the + 1e-10 because it's the denominator and we want to make sure it's non 0\n",
    "    #average of the error but considering only the movies that were rated!!\n",
    "      mean_corrector = nb_movies/float(torch.sum(target.data > 0) + 1e-10)\n",
    "        #do we need to increase the weights? Or do we need to decrease them?\n",
    "      loss.backward()\n",
    "        #loss data is already squared error\n",
    "      train_loss += np.sqrt(loss.data*mean_corrector)\n",
    "      s += 1.\n",
    "        #difference between backward and step -> backward decides the direction to which the weights will be update\n",
    "        #step decides the amount by which the weights will be updated\n",
    "      optimizer.step()\n",
    "  print('epoch: '+str(epoch)+'loss: '+ str(train_loss/s))\n",
    "#the loss at the end means how many stars we did as an error. For example we give 4stars but it was 5 etc"
   ]
  },
  {
   "cell_type": "markdown",
   "metadata": {
    "colab_type": "text",
    "id": "Bak5uc8gd-gX"
   },
   "source": [
    "## Testing the SAE\n"
   ]
  },
  {
   "cell_type": "code",
   "execution_count": 13,
   "metadata": {
    "colab": {
     "base_uri": "https://localhost:8080/",
     "height": 34
    },
    "colab_type": "code",
    "id": "5ztvzYRtiGCz",
    "outputId": "d0e8ea8b-9ac4-40e5-a19a-7fcfc6934d61"
   },
   "outputs": [
    {
     "name": "stdout",
     "output_type": "stream",
     "text": [
      "test loss: tensor(0.9622)\n"
     ]
    }
   ],
   "source": [
    "#we only need one epoch and not 200.\n",
    "test_loss = 0\n",
    "s = 0.\n",
    "for id_user in range(nb_users):\n",
    "    #input is from the training set while target is from the test set.\n",
    "    #we are dealing with a specific user and we want an input corresponding to the user. We put the input vector into\n",
    "    #the network and based on the ratings it will predict the ratings of movies the user hasn't watched.\n",
    "    #compare the ratings with the test ratings.\n",
    "    #test set contains the real answers. Real ratings!\n",
    "  input = Variable(training_set[id_user]).unsqueeze(0)\n",
    "    #the target is the real ratings of the test set\n",
    "  target = Variable(test_set[id_user]).unsqueeze(0)\n",
    "  if torch.sum(target.data > 0) > 0:\n",
    "    output = sae(input)\n",
    "    target.require_grad = False\n",
    "    output[target == 0] = 0\n",
    "    loss = criterion(output, target)\n",
    "    mean_corrector = nb_movies/float(torch.sum(target.data > 0) + 1e-10)\n",
    "    test_loss += np.sqrt(loss.data*mean_corrector)\n",
    "    s += 1.\n",
    "print('test loss: '+str(test_loss/s))\n",
    "#loss.backward() and optimizer.step() gets removed because we don't need them for the testing purpose"
   ]
  },
  {
   "cell_type": "code",
   "execution_count": null,
   "metadata": {},
   "outputs": [],
   "source": []
  }
 ],
 "metadata": {
  "accelerator": "GPU",
  "colab": {
   "collapsed_sections": [],
   "name": "AutoEncoders.ipynb",
   "provenance": [],
   "toc_visible": true
  },
  "kernelspec": {
   "display_name": "Python 3 (ipykernel)",
   "language": "python",
   "name": "python3"
  },
  "language_info": {
   "codemirror_mode": {
    "name": "ipython",
    "version": 3
   },
   "file_extension": ".py",
   "mimetype": "text/x-python",
   "name": "python",
   "nbconvert_exporter": "python",
   "pygments_lexer": "ipython3",
   "version": "3.8.13"
  }
 },
 "nbformat": 4,
 "nbformat_minor": 1
}
