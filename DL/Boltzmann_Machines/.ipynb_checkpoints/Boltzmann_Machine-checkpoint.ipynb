{
 "cells": [
  {
   "cell_type": "markdown",
   "metadata": {
    "colab_type": "text",
    "id": "K4f4JG1gdKqj"
   },
   "source": [
    "#Boltzmann Machine"
   ]
  },
  {
   "cell_type": "markdown",
   "metadata": {
    "colab_type": "text",
    "id": "1jbiqOK7dLGG"
   },
   "source": [
    "##Downloading the dataset"
   ]
  },
  {
   "cell_type": "markdown",
   "metadata": {
    "colab_type": "text",
    "id": "XL5MEkLcfRD2"
   },
   "source": [
    "###ML-100K"
   ]
  },
  {
   "cell_type": "code",
   "execution_count": 66,
   "metadata": {
    "colab": {
     "base_uri": "https://localhost:8080/",
     "height": 646
    },
    "colab_type": "code",
    "id": "rjOPzue7FCXJ",
    "outputId": "44d3a628-f522-4d0d-efdf-009b7d3a28df"
   },
   "outputs": [],
   "source": [
    "# !wget \"http://files.grouplens.org/datasets/movielens/ml-100k.zip\"\n",
    "# !unzip ml-100k.zip\n",
    "# !ls"
   ]
  },
  {
   "cell_type": "markdown",
   "metadata": {
    "colab_type": "text",
    "id": "9Xis6ldDfTs6"
   },
   "source": [
    "###ML-1M"
   ]
  },
  {
   "cell_type": "code",
   "execution_count": 67,
   "metadata": {
    "colab": {
     "base_uri": "https://localhost:8080/",
     "height": 323
    },
    "colab_type": "code",
    "id": "LOly1yfAfTjd",
    "outputId": "22029b8c-79f2-46a2-a745-cdce83582b40"
   },
   "outputs": [],
   "source": [
    "# !wget \"http://files.grouplens.org/datasets/movielens/ml-1m.zip\"\n",
    "# !unzip ml-1m.zip\n",
    "# !ls"
   ]
  },
  {
   "cell_type": "markdown",
   "metadata": {
    "colab_type": "text",
    "id": "EOBJ8UCXdY0g"
   },
   "source": [
    "##Importing the libraries"
   ]
  },
  {
   "cell_type": "code",
   "execution_count": 77,
   "metadata": {
    "colab": {},
    "colab_type": "code",
    "id": "_LvGeU1CeCtg"
   },
   "outputs": [
    {
     "data": {
      "text/plain": [
       "True"
      ]
     },
     "execution_count": 77,
     "metadata": {},
     "output_type": "execute_result"
    }
   ],
   "source": [
    "import numpy as np\n",
    "import pandas as pd\n",
    "import torch\n",
    "import torch.nn as nn\n",
    "import torch.nn.parallel\n",
    "import torch.optim as optim\n",
    "import torch.utils.data\n",
    "from torch.autograd import Variable\n",
    "import torch; torch.backends.mps.is_available()#check if mps is available"
   ]
  },
  {
   "cell_type": "markdown",
   "metadata": {
    "colab_type": "text",
    "id": "pM04FyMudkoK"
   },
   "source": [
    "## Importing the dataset\n"
   ]
  },
  {
   "cell_type": "code",
   "execution_count": 78,
   "metadata": {
    "colab": {},
    "colab_type": "code",
    "id": "UJw2p3-Cewo4"
   },
   "outputs": [],
   "source": [
    "# We won't be using this dataset.\n",
    "#cannot use , for seperator due to the nature of movie names. we use ::\n",
    "#header default is there is value. We need to specify there is no column names with header = None\n",
    "#engine -> we make sure we the dataset is imported correctly. \n",
    "#encoding = different than usual because some files contain some special chars that cannot be \n",
    "#encoded with utf 8 so we need to use latin-1\n",
    "movies = pd.read_csv('ml-1m/movies.dat', sep = '::', header = None, engine = 'python', encoding = 'latin-1')\n",
    "users = pd.read_csv('ml-1m/users.dat', sep = '::', header = None, engine = 'python', encoding = 'latin-1')\n",
    "ratings = pd.read_csv('ml-1m/ratings.dat', sep = '::', header = None, engine = 'python', encoding = 'latin-1')"
   ]
  },
  {
   "cell_type": "markdown",
   "metadata": {
    "colab_type": "text",
    "id": "yTIbE2tkdkwP"
   },
   "source": [
    "## Preparing the training set and the test set\n"
   ]
  },
  {
   "cell_type": "code",
   "execution_count": 79,
   "metadata": {
    "colab": {},
    "colab_type": "code",
    "id": "2usLKJBEgPE2"
   },
   "outputs": [],
   "source": [
    "training_set = pd.read_csv('ml-100k/u1.base', delimiter = '\\t') #we get a dataframe here\n",
    "#convert to array. best way to convert \n",
    "training_set = np.array(training_set, dtype = 'int')\n",
    "test_set = pd.read_csv('ml-100k/u1.test', delimiter = '\\t')\n",
    "test_set = np.array(test_set, dtype = 'int')"
   ]
  },
  {
   "cell_type": "markdown",
   "metadata": {
    "colab_type": "text",
    "id": "zCf8HjSydk4s"
   },
   "source": [
    "## Getting the number of users and movies\n"
   ]
  },
  {
   "cell_type": "code",
   "execution_count": 80,
   "metadata": {
    "colab": {},
    "colab_type": "code",
    "id": "gPaGZqdniC5m"
   },
   "outputs": [],
   "source": [
    "#get the max number for users and max number for movies\n",
    "#MAKE SURE THE OUTPUT IS INTEGER BECAUSE WE WILL GET AN ERROR OTHERWISE\n",
    "#max of max from training set and max of test set. Data is in first column\n",
    "nb_users = int(max(max(training_set[:, 0], ), max(test_set[:, 0])))\n",
    "#max of max from training set and max of test set. Data is in second column\n",
    "nb_movies = int(max(max(training_set[:, 1], ), max(test_set[:, 1])))"
   ]
  },
  {
   "cell_type": "markdown",
   "metadata": {
    "colab_type": "text",
    "id": "J-w4-hVidlAm"
   },
   "source": [
    "## Converting the data into an array with users in lines and movies in columns\n"
   ]
  },
  {
   "cell_type": "code",
   "execution_count": 81,
   "metadata": {
    "colab": {},
    "colab_type": "code",
    "id": "-wASs2YFiDaa"
   },
   "outputs": [],
   "source": [
    "#create 2 matrixes , one for training and one for test set\n",
    "#same number of users and same number of ratings\n",
    "#if a user didn't rate we will put a 0. \n",
    "#We will create a list within a list instead of a 2d array because we will feed our input\n",
    "#into the pytorch. List per user and each list will have the ratings for each movie\n",
    "#\n",
    "def convert(data):\n",
    "  new_data = [] #initialize an empty list\n",
    "  for id_users in range(1, nb_users + 1): #we add 1 more because the upper bound is excluded but we want the last user too!\n",
    "    id_movies = data[:, 1] [data[:, 0] == id_users] #get all the movies id that was rated by the user id_users.\n",
    "    id_ratings = data[:, 2] [data[:, 0] == id_users] #doing the same for the ratings\n",
    "    ratings = np.zeros(nb_movies)#add zeros everywhere because we want to make sure every movie is rated. So if the user hasn't watched a movie we assign 0\n",
    "    ratings[id_movies - 1] = id_ratings #first movie has id of 1 but since python starts with 0 we need to -1 so we start from 0\n",
    "    new_data.append(list(ratings))#we add list() just to make sure it's a list.\n",
    "  return new_data\n",
    "training_set = convert(training_set)\n",
    "test_set = convert(test_set)\n",
    "#TORCH EXPECTS LIST OF LISTS, that's why we do all this preprocessing"
   ]
  },
  {
   "cell_type": "markdown",
   "metadata": {
    "colab_type": "text",
    "id": "AMmhuUpldlHo"
   },
   "source": [
    "## Converting the data into Torch tensors\n"
   ]
  },
  {
   "cell_type": "code",
   "execution_count": 87,
   "metadata": {
    "colab": {},
    "colab_type": "code",
    "id": "TwD-KD8yiEEw"
   },
   "outputs": [],
   "source": [
    "#TORCH EXPECTS LIST OF LISTS\n",
    "#pytorch array. COnvert into torch sensors\n",
    "#torch is a multidimensional matrix with a single type\n",
    "#one argument which has to be a list of lists!\n",
    "training_set = torch.FloatTensor(training_set)\n",
    "test_set = torch.FloatTensor(test_set)"
   ]
  },
  {
   "cell_type": "markdown",
   "metadata": {
    "colab_type": "text",
    "id": "HIPruubGdlPW"
   },
   "source": [
    "## Converting the ratings into binary ratings 1 (Liked) or 0 (Not Liked)\n"
   ]
  },
  {
   "cell_type": "code",
   "execution_count": 89,
   "metadata": {
    "colab": {},
    "colab_type": "code",
    "id": "cslbPSh6iEka"
   },
   "outputs": [],
   "source": [
    "#from this point on everything is RBM specific\n",
    "#RBM will need input binary because we want our RBN output to be binary. 1 liked 0 not likes\n",
    "training_set[training_set == 0] = -1 #replace 0 with -1. if value is 0 replace with -1 etc\n",
    "training_set[training_set == 1] = 0\n",
    "training_set[training_set == 2] = 0\n",
    "training_set[training_set >= 3] = 1\n",
    "test_set[test_set == 0] = -1\n",
    "test_set[test_set == 1] = 0\n",
    "test_set[test_set == 2] = 0\n",
    "test_set[test_set >= 3] = 1"
   ]
  },
  {
   "cell_type": "markdown",
   "metadata": {
    "colab_type": "text",
    "id": "6kkL8NkkdlZj"
   },
   "source": [
    "## Creating the architecture of the Neural Network\n"
   ]
  },
  {
   "cell_type": "code",
   "execution_count": 92,
   "metadata": {
    "colab": {},
    "colab_type": "code",
    "id": "oU2nyh76iE6M"
   },
   "outputs": [],
   "source": [
    "#classes are the most practical way in python. It's a mode of something we want to build\n",
    "#\n",
    "class RBM():\n",
    "  def __init__(self, nv, nh): #first argument is self and corresponds to the object that\n",
    "    #will be created afterwards, #nv number of visible nodes, nh number of hidden nodes\n",
    "    #init the parameters of our feature object.\n",
    "    #self.name of var in order to initialize.\n",
    "    self.W = torch.randn(nh, nv) #init the weights randomnly according to normal distribution. Mean of 0 and std of 1\n",
    "    #we need to init the biases.\n",
    "    #there is some bias for the probability of the hidden node given the visible node\n",
    "    #and there is some bias for the probability of the visible node given the hidden node\n",
    "    self.a = torch.randn(1, nh)#bias for prob of hidden given the visible\n",
    "    #we need to create a vector for the batch and the bias, so that's why we add 1,nh\n",
    "    self.b = torch.randn(1, nv)#bias for prob of visible node given the hidden\n",
    "#creating the function that will sample our hidden nodes based on the probabilities \n",
    "#p_h_given_v h hiden v visible\n",
    "#sample our activation for each hidden node.\n",
    "#self corresponds to the object to be able to access the variable above self.w,self.a etc\n",
    "  def sample_h(self, x): #x will correspond to the visible node v in the prob p_h_given_v\n",
    "    #wx is the vector of weight * vector of visible nodes\n",
    "    wx = torch.mm(x, self.W.t())#two torch tensors matrix multiplication\n",
    "    #activation is wx + bias. linear function of the neurons\n",
    "    #self.a is a variable of the vector\n",
    "    #.expand_as(wx) -> make sure the bias is applied in each line of the vector (1, nh)\n",
    "    #we want to expand it as wx. The bias is applied in each line of the minibatch\n",
    "    activation = wx + self.a.expand_as(wx)\n",
    "    #the probability that the hidden node will be activated according the value of the \n",
    "    #visible is just the sigmoid func\n",
    "    #very high probability of someone who likes drama movies to get the drama neuron to light up\n",
    "    p_h_given_v = torch.sigmoid(activation)  \n",
    "    #return the probability and a sample of h all the hidden neurons according to the prob\n",
    "    #p_h_given_v is a vector of nh elements each of each corresponds to the 1 of the hidden nodes\n",
    "    #ith hidden vector probabillity that it is activated given the values of the visible nodes\n",
    "    #and in our example given the user we are dealing with\n",
    "    #take a random numbe etc ->0.70 if more than 0.70 we activate else we dont. thats why we use \n",
    "    # torch.bernoulli(p_h_given_v) in order to get a vector of 0 and 1. 0 not activated\n",
    "    #1 corresponds to the ones activated by the sampling\n",
    "    return p_h_given_v, torch.bernoulli(p_h_given_v)\n",
    "  def sample_v(self, y):\n",
    "    wy = torch.mm(y, self.W)\n",
    "    activation = wy + self.b.expand_as(wy)\n",
    "    p_v_given_h = torch.sigmoid(activation)\n",
    "    return p_v_given_h, torch.bernoulli(p_v_given_h)\n",
    "  def train(self, v0, vk, ph0, phk):\n",
    "    self.W += (torch.mm(v0.t(), ph0) - torch.mm(vk.t(), phk)).t()\n",
    "    self.b += torch.sum((v0 - vk), 0)\n",
    "    self.a += torch.sum((ph0 - phk), 0)\n",
    "nv = len(training_set[0])\n",
    "nh = 100\n",
    "batch_size = 100\n",
    "rbm = RBM(nv, nh)"
   ]
  },
  {
   "cell_type": "markdown",
   "metadata": {
    "colab_type": "text",
    "id": "7gy59alAdloL"
   },
   "source": [
    "## Training the RBM\n"
   ]
  },
  {
   "cell_type": "code",
   "execution_count": 15,
   "metadata": {
    "colab": {
     "base_uri": "https://localhost:8080/",
     "height": 187
    },
    "colab_type": "code",
    "id": "FEz9hRaciFTs",
    "outputId": "677ba886-38ee-43f2-9a2d-bed081429295"
   },
   "outputs": [
    {
     "name": "stdout",
     "output_type": "stream",
     "text": [
      "epoch: 1 loss: tensor(0.3414)\n",
      "epoch: 2 loss: tensor(0.2318)\n",
      "epoch: 3 loss: tensor(0.2548)\n",
      "epoch: 4 loss: tensor(0.2443)\n",
      "epoch: 5 loss: tensor(0.2508)\n",
      "epoch: 6 loss: tensor(0.2453)\n",
      "epoch: 7 loss: tensor(0.2516)\n",
      "epoch: 8 loss: tensor(0.2468)\n",
      "epoch: 9 loss: tensor(0.2500)\n",
      "epoch: 10 loss: tensor(0.2475)\n"
     ]
    }
   ],
   "source": [
    "nb_epoch = 10\n",
    "for epoch in range(1, nb_epoch + 1):\n",
    "  train_loss = 0\n",
    "  s = 0.\n",
    "  for id_user in range(0, nb_users - batch_size, batch_size):\n",
    "    vk = training_set[id_user : id_user + batch_size]\n",
    "    v0 = training_set[id_user : id_user + batch_size]\n",
    "    ph0,_ = rbm.sample_h(v0)\n",
    "    for k in range(10):\n",
    "      _,hk = rbm.sample_h(vk)\n",
    "      _,vk = rbm.sample_v(hk)\n",
    "      vk[v0<0] = v0[v0<0]\n",
    "    phk,_ = rbm.sample_h(vk)\n",
    "    rbm.train(v0, vk, ph0, phk)\n",
    "    train_loss += torch.mean(torch.abs(v0[v0 >= 0] - vk[v0 >= 0]))\n",
    "    s += 1.\n",
    "  print('epoch: '+str(epoch)+' loss: '+str(train_loss/s))\n"
   ]
  },
  {
   "cell_type": "markdown",
   "metadata": {
    "colab_type": "text",
    "id": "Bak5uc8gd-gX"
   },
   "source": [
    "## Testing the RBM\n"
   ]
  },
  {
   "cell_type": "code",
   "execution_count": 16,
   "metadata": {
    "colab": {
     "base_uri": "https://localhost:8080/",
     "height": 34
    },
    "colab_type": "code",
    "id": "5ztvzYRtiGCz",
    "outputId": "2b5ed305-7700-4e25-c59a-5adae77a603a"
   },
   "outputs": [
    {
     "name": "stdout",
     "output_type": "stream",
     "text": [
      "test loss: tensor(0.2465)\n"
     ]
    }
   ],
   "source": [
    "test_loss = 0\n",
    "s = 0.\n",
    "for id_user in range(nb_users):\n",
    "    v = training_set[id_user:id_user+1]\n",
    "    vt = test_set[id_user:id_user+1]\n",
    "    if len(vt[vt>=0]) > 0:\n",
    "        _,h = rbm.sample_h(v)\n",
    "        _,v = rbm.sample_v(h)\n",
    "        test_loss += torch.mean(torch.abs(vt[vt>=0] - v[vt>=0]))\n",
    "        s += 1.\n",
    "print('test loss: '+str(test_loss/s))"
   ]
  },
  {
   "cell_type": "code",
   "execution_count": null,
   "metadata": {},
   "outputs": [],
   "source": []
  }
 ],
 "metadata": {
  "colab": {
   "collapsed_sections": [],
   "name": "Boltzmann Machine.ipynb",
   "provenance": [],
   "toc_visible": true
  },
  "kernelspec": {
   "display_name": "Python 3 (ipykernel)",
   "language": "python",
   "name": "python3"
  },
  "language_info": {
   "codemirror_mode": {
    "name": "ipython",
    "version": 3
   },
   "file_extension": ".py",
   "mimetype": "text/x-python",
   "name": "python",
   "nbconvert_exporter": "python",
   "pygments_lexer": "ipython3",
   "version": "3.8.13"
  }
 },
 "nbformat": 4,
 "nbformat_minor": 1
}
