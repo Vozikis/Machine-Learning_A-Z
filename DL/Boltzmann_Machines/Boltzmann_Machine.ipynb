{
 "cells": [
  {
   "cell_type": "markdown",
   "metadata": {
    "colab_type": "text",
    "id": "K4f4JG1gdKqj"
   },
   "source": [
    "#Boltzmann Machine"
   ]
  },
  {
   "cell_type": "markdown",
   "metadata": {
    "colab_type": "text",
    "id": "1jbiqOK7dLGG"
   },
   "source": [
    "##Downloading the dataset"
   ]
  },
  {
   "cell_type": "markdown",
   "metadata": {
    "colab_type": "text",
    "id": "XL5MEkLcfRD2"
   },
   "source": [
    "###ML-100K"
   ]
  },
  {
   "cell_type": "code",
   "execution_count": 97,
   "metadata": {
    "colab": {
     "base_uri": "https://localhost:8080/",
     "height": 646
    },
    "colab_type": "code",
    "id": "rjOPzue7FCXJ",
    "outputId": "44d3a628-f522-4d0d-efdf-009b7d3a28df"
   },
   "outputs": [],
   "source": [
    "# !wget \"http://files.grouplens.org/datasets/movielens/ml-100k.zip\"\n",
    "# !unzip ml-100k.zip\n",
    "# !ls"
   ]
  },
  {
   "cell_type": "markdown",
   "metadata": {
    "colab_type": "text",
    "id": "9Xis6ldDfTs6"
   },
   "source": [
    "###ML-1M"
   ]
  },
  {
   "cell_type": "code",
   "execution_count": 98,
   "metadata": {
    "colab": {
     "base_uri": "https://localhost:8080/",
     "height": 323
    },
    "colab_type": "code",
    "id": "LOly1yfAfTjd",
    "outputId": "22029b8c-79f2-46a2-a745-cdce83582b40"
   },
   "outputs": [],
   "source": [
    "# !wget \"http://files.grouplens.org/datasets/movielens/ml-1m.zip\"\n",
    "# !unzip ml-1m.zip\n",
    "# !ls"
   ]
  },
  {
   "cell_type": "markdown",
   "metadata": {
    "colab_type": "text",
    "id": "EOBJ8UCXdY0g"
   },
   "source": [
    "##Importing the libraries"
   ]
  },
  {
   "cell_type": "code",
   "execution_count": 99,
   "metadata": {
    "colab": {},
    "colab_type": "code",
    "id": "_LvGeU1CeCtg"
   },
   "outputs": [
    {
     "data": {
      "text/plain": [
       "True"
      ]
     },
     "execution_count": 99,
     "metadata": {},
     "output_type": "execute_result"
    }
   ],
   "source": [
    "import numpy as np\n",
    "import pandas as pd\n",
    "import torch\n",
    "import torch.nn as nn\n",
    "import torch.nn.parallel\n",
    "import torch.optim as optim\n",
    "import torch.utils.data\n",
    "from torch.autograd import Variable\n",
    "import torch; torch.backends.mps.is_available()#check if mps is available"
   ]
  },
  {
   "cell_type": "markdown",
   "metadata": {
    "colab_type": "text",
    "id": "pM04FyMudkoK"
   },
   "source": [
    "## Importing the dataset\n"
   ]
  },
  {
   "cell_type": "code",
   "execution_count": 100,
   "metadata": {
    "colab": {},
    "colab_type": "code",
    "id": "UJw2p3-Cewo4"
   },
   "outputs": [],
   "source": [
    "# We won't be using this dataset.\n",
    "#cannot use , for seperator due to the nature of movie names. we use ::\n",
    "#header default is there is value. We need to specify there is no column names with header = None\n",
    "#engine -> we make sure we the dataset is imported correctly. \n",
    "#encoding = different than usual because some files contain some special chars that cannot be \n",
    "#encoded with utf 8 so we need to use latin-1\n",
    "movies = pd.read_csv('ml-1m/movies.dat', sep = '::', header = None, engine = 'python', encoding = 'latin-1')\n",
    "users = pd.read_csv('ml-1m/users.dat', sep = '::', header = None, engine = 'python', encoding = 'latin-1')\n",
    "ratings = pd.read_csv('ml-1m/ratings.dat', sep = '::', header = None, engine = 'python', encoding = 'latin-1')"
   ]
  },
  {
   "cell_type": "markdown",
   "metadata": {
    "colab_type": "text",
    "id": "yTIbE2tkdkwP"
   },
   "source": [
    "## Preparing the training set and the test set\n"
   ]
  },
  {
   "cell_type": "code",
   "execution_count": 101,
   "metadata": {
    "colab": {},
    "colab_type": "code",
    "id": "2usLKJBEgPE2"
   },
   "outputs": [],
   "source": [
    "training_set = pd.read_csv('ml-100k/u1.base', delimiter = '\\t') #we get a dataframe here\n",
    "#convert to array. best way to convert \n",
    "training_set = np.array(training_set, dtype = 'int')\n",
    "test_set = pd.read_csv('ml-100k/u1.test', delimiter = '\\t')\n",
    "test_set = np.array(test_set, dtype = 'int')"
   ]
  },
  {
   "cell_type": "markdown",
   "metadata": {
    "colab_type": "text",
    "id": "zCf8HjSydk4s"
   },
   "source": [
    "## Getting the number of users and movies\n"
   ]
  },
  {
   "cell_type": "code",
   "execution_count": 102,
   "metadata": {
    "colab": {},
    "colab_type": "code",
    "id": "gPaGZqdniC5m"
   },
   "outputs": [],
   "source": [
    "#get the max number for users and max number for movies\n",
    "#MAKE SURE THE OUTPUT IS INTEGER BECAUSE WE WILL GET AN ERROR OTHERWISE\n",
    "#max of max from training set and max of test set. Data is in first column\n",
    "nb_users = int(max(max(training_set[:, 0], ), max(test_set[:, 0])))\n",
    "#max of max from training set and max of test set. Data is in second column\n",
    "nb_movies = int(max(max(training_set[:, 1], ), max(test_set[:, 1])))"
   ]
  },
  {
   "cell_type": "markdown",
   "metadata": {
    "colab_type": "text",
    "id": "J-w4-hVidlAm"
   },
   "source": [
    "## Converting the data into an array with users in lines and movies in columns\n"
   ]
  },
  {
   "cell_type": "code",
   "execution_count": 103,
   "metadata": {
    "colab": {},
    "colab_type": "code",
    "id": "-wASs2YFiDaa"
   },
   "outputs": [],
   "source": [
    "#create 2 matrixes , one for training and one for test set\n",
    "#same number of users and same number of ratings\n",
    "#if a user didn't rate we will put a 0. \n",
    "#We will create a list within a list instead of a 2d array because we will feed our input\n",
    "#into the pytorch. List per user and each list will have the ratings for each movie\n",
    "#\n",
    "def convert(data):\n",
    "  new_data = [] #initialize an empty list\n",
    "  for id_users in range(1, nb_users + 1): #we add 1 more because the upper bound is excluded but we want the last user too!\n",
    "    id_movies = data[:, 1] [data[:, 0] == id_users] #get all the movies id that was rated by the user id_users.\n",
    "    id_ratings = data[:, 2] [data[:, 0] == id_users] #doing the same for the ratings\n",
    "    ratings = np.zeros(nb_movies)#add zeros everywhere because we want to make sure every movie is rated. So if the user hasn't watched a movie we assign 0\n",
    "    ratings[id_movies - 1] = id_ratings #first movie has id of 1 but since python starts with 0 we need to -1 so we start from 0\n",
    "    new_data.append(list(ratings))#we add list() just to make sure it's a list.\n",
    "  return new_data\n",
    "training_set = convert(training_set)\n",
    "test_set = convert(test_set)\n",
    "#TORCH EXPECTS LIST OF LISTS, that's why we do all this preprocessing"
   ]
  },
  {
   "cell_type": "markdown",
   "metadata": {
    "colab_type": "text",
    "id": "AMmhuUpldlHo"
   },
   "source": [
    "## Converting the data into Torch tensors\n"
   ]
  },
  {
   "cell_type": "code",
   "execution_count": 104,
   "metadata": {
    "colab": {},
    "colab_type": "code",
    "id": "TwD-KD8yiEEw"
   },
   "outputs": [],
   "source": [
    "#TORCH EXPECTS LIST OF LISTS\n",
    "#pytorch array. COnvert into torch sensors\n",
    "#torch is a multidimensional matrix with a single type\n",
    "#one argument which has to be a list of lists!\n",
    "training_set = torch.FloatTensor(training_set)\n",
    "test_set = torch.FloatTensor(test_set)"
   ]
  },
  {
   "cell_type": "markdown",
   "metadata": {
    "colab_type": "text",
    "id": "HIPruubGdlPW"
   },
   "source": [
    "## Converting the ratings into binary ratings 1 (Liked) or 0 (Not Liked)\n"
   ]
  },
  {
   "cell_type": "code",
   "execution_count": 105,
   "metadata": {
    "colab": {},
    "colab_type": "code",
    "id": "cslbPSh6iEka"
   },
   "outputs": [],
   "source": [
    "#from this point on everything is RBM specific\n",
    "#RBM will need input binary because we want our RBN output to be binary. 1 liked 0 not likes\n",
    "training_set[training_set == 0] = -1 #replace 0 with -1. if value is 0 replace with -1 etc\n",
    "training_set[training_set == 1] = 0\n",
    "training_set[training_set == 2] = 0\n",
    "training_set[training_set >= 3] = 1\n",
    "test_set[test_set == 0] = -1\n",
    "test_set[test_set == 1] = 0\n",
    "test_set[test_set == 2] = 0\n",
    "test_set[test_set >= 3] = 1"
   ]
  },
  {
   "cell_type": "markdown",
   "metadata": {
    "colab_type": "text",
    "id": "6kkL8NkkdlZj"
   },
   "source": [
    "## Creating the architecture of the Neural Network\n"
   ]
  },
  {
   "cell_type": "code",
   "execution_count": 106,
   "metadata": {
    "colab": {},
    "colab_type": "code",
    "id": "oU2nyh76iE6M"
   },
   "outputs": [],
   "source": [
    "#classes are the most practical way in python. It's a mode of something we want to build\n",
    "#\n",
    "class RBM():\n",
    "  def __init__(self, nv, nh): #first argument is self and corresponds to the object that\n",
    "    #will be created afterwards, #nv number of visible nodes, nh number of hidden nodes\n",
    "    #init the parameters of our feature object.\n",
    "    #self.name of var in order to initialize.\n",
    "    self.W = torch.randn(nh, nv) #init the weights randomnly according to normal distribution. Mean of 0 and std of 1\n",
    "    #we need to init the biases.\n",
    "    #there is some bias for the probability of the hidden node given the visible node\n",
    "    #and there is some bias for the probability of the visible node given the hidden node\n",
    "    self.a = torch.randn(1, nh)#bias for prob of hidden given the visible\n",
    "    #we need to create a vector for the batch and the bias, so that's why we add 1,nh\n",
    "    self.b = torch.randn(1, nv)#bias for prob of visible node given the hidden\n",
    "#creating the function that will sample our hidden nodes based on the probabilities \n",
    "#p_h_given_v h hiden v visible\n",
    "#sample our activation for each hidden node.\n",
    "#self corresponds to the object to be able to access the variable above self.w,self.a etc\n",
    "  def sample_h(self, x): #x will correspond to the visible node v in the prob p_h_given_v\n",
    "    #wx is the vector of weight * vector of visible nodes\n",
    "    wx = torch.mm(x, self.W.t())#two torch tensors matrix multiplication\n",
    "    #activation is wx + bias. linear function of the neurons\n",
    "    #self.a is a variable of the vector\n",
    "    #.expand_as(wx) -> make sure the bias is applied in each line of the vector (1, nh)\n",
    "    #we want to expand it as wx. The bias is applied in each line of the minibatch\n",
    "    activation = wx + self.a.expand_as(wx)\n",
    "    #the probability that the hidden node will be activated according the value of the \n",
    "    #visible is just the sigmoid func\n",
    "    #very high probability of someone who likes drama movies to get the drama neuron to light up\n",
    "    p_h_given_v = torch.sigmoid(activation)  \n",
    "    #return the probability and a sample of h all the hidden neurons according to the prob\n",
    "    #p_h_given_v is a vector of nh elements each of each corresponds to the 1 of the hidden nodes\n",
    "    #ith hidden vector probabillity that it is activated given the values of the visible nodes\n",
    "    #and in our example given the user we are dealing with\n",
    "    #take a random numbe etc ->0.70 if more than 0.70 we activate else we dont. thats why we use \n",
    "    # torch.bernoulli(p_h_given_v) in order to get a vector of 0 and 1. 0 not activated\n",
    "    #1 corresponds to the ones activated by the sampling\n",
    "    return p_h_given_v, torch.bernoulli(p_h_given_v)\n",
    "#time for the visible nodes.values of the hidden nodes will help us estimate the probabilities\n",
    "#of each visible node is 1\n",
    "  def sample_v(self, y):\n",
    "    wy = torch.mm(y, self.W) #no need for transpose here cause we are computing pv given h\n",
    "    activation = wy + self.b.expand_as(wy)\n",
    "    p_v_given_h = torch.sigmoid(activation)\n",
    "    return p_v_given_h, torch.bernoulli(p_v_given_h)\n",
    "#Here we will do the contrastive divergence part. we need to optimive the weight so we \n",
    "#minimize the energy. we will just approximate the gradients and we will use cd\n",
    "#parameters self because we will update the weights and the biases\n",
    "#v0 is our input vector containing all the ratings of one user, \n",
    "#vk is the visible node we get after k samples from the v node to the h and then back from h node to v node\n",
    "#ph0 is the vector of probabilities that at the first iteration the hidden nodes equal 1 given the \n",
    "#values of the input vector v0\n",
    "#phk is the vector of probabilities of the hidden nodes after k sample given the values of vk\n",
    "  def train(self, v0, vk, ph0, phk):\n",
    "    self.W += (torch.mm(v0.t(), ph0) - torch.mm(vk.t(), phk)).t()\n",
    "    self.b += torch.sum((v0 - vk), 0)#trick to just v0 - vk to keep b as a tensor of 2 dimensions\n",
    "    self.a += torch.sum((ph0 - phk), 0)#same as above\n",
    "nv = len(training_set[0]) #fixed parameter for visible nodes. Number of movies!!!! one node for each movie\n",
    "nh = 100 # number of hiden nodes. Parameter that we choose. we choose a relevant number to the 1600something movies\n",
    "#so based on the features a movie might have, drama, actors,oscars etc\n",
    "batch_size = 100 #we will not update our weights after each observation. we will update after several observations\n",
    "# that will all go into a batch. Adding large batch size we get faster learning\n",
    "rbm = RBM(nv, nh) "
   ]
  },
  {
   "cell_type": "markdown",
   "metadata": {
    "colab_type": "text",
    "id": "7gy59alAdloL"
   },
   "source": [
    "## Training the RBM\n"
   ]
  },
  {
   "cell_type": "code",
   "execution_count": 111,
   "metadata": {
    "colab": {
     "base_uri": "https://localhost:8080/",
     "height": 187
    },
    "colab_type": "code",
    "id": "FEz9hRaciFTs",
    "outputId": "677ba886-38ee-43f2-9a2d-bed081429295"
   },
   "outputs": [
    {
     "name": "stdout",
     "output_type": "stream",
     "text": [
      "epoch: 1 loss: tensor(0.2467)\n",
      "epoch: 2 loss: tensor(0.2492)\n",
      "epoch: 3 loss: tensor(0.2462)\n",
      "epoch: 4 loss: tensor(0.2470)\n",
      "epoch: 5 loss: tensor(0.2479)\n",
      "epoch: 6 loss: tensor(0.2442)\n",
      "epoch: 7 loss: tensor(0.2492)\n",
      "epoch: 8 loss: tensor(0.2476)\n",
      "epoch: 9 loss: tensor(0.2502)\n",
      "epoch: 10 loss: tensor(0.2448)\n"
     ]
    }
   ],
   "source": [
    "nb_epoch = 10 #due to binary values the convergence will be reached very fast \n",
    "for epoch in range(1, nb_epoch + 1):\n",
    "  train_loss = 0 #we need a loss function to meassure the error between the prediction and the actual result\n",
    "                 #simple difference absolute values for this example.\n",
    "  s = 0. #counter to normalize the train loss. We will dividide it with train loss\n",
    "  for id_user in range(0, nb_users - batch_size, batch_size): #get the batch of users and not one by one.\n",
    "    #we will get our input and our target. \n",
    "    #input is ratings of the movies for each user\n",
    "    #target is the output of the movies he might like\n",
    "    vk = training_set[id_user : id_user + batch_size] #in the beggining it's the input batch. All the users from\n",
    "    #id_user plus the batch size\n",
    "    v0 = training_set[id_user : id_user + batch_size] #we want to compare in the end and we don't want to touch it\n",
    "    ph0,_ = rbm.sample_h(v0) #initial probabilties. sample h -> given visible. Only return the first element\n",
    "    for k in range(10): # for loop for the k steps of contrastive divergence\n",
    "                        # there are round trips from visible nodes to hidden nodes and back\n",
    "      _,hk = rbm.sample_h(vk) # hk is the hidden nodes that we got at the kth step of CD\n",
    "      _,vk = rbm.sample_v(hk) # vk is the visible nodes that we got at the kth step of CD\n",
    "      vk[v0<0] = v0[v0<0] #we do not want to include the cells with -1 rating. So they wont be \n",
    "    #updated when doing the gibbs sampling. all those will keep the -1. Now we make sure the training\n",
    "    #was not done on those ones that the rating was non existent\n",
    "    phk,_ = rbm.sample_h(vk) #we also need phk. So we need to obtain it from the sample\n",
    "    rbm.train(v0, vk, ph0, phk)\n",
    "    #loss function -> prediction - actual value\n",
    "    #target is v0 and the prediction is vk\n",
    "    #we exclude the ratings < 0 meaning the -1\n",
    "    train_loss += torch.mean(torch.abs(v0[v0 >= 0] - vk[v0 >= 0]))\n",
    "    s += 1. #increment by 1 so we can continue our normalization process\n",
    "  print('epoch: '+str(epoch)+' loss: '+str(train_loss/s)) #concatenate strings in python\n"
   ]
  },
  {
   "cell_type": "markdown",
   "metadata": {
    "colab_type": "text",
    "id": "Bak5uc8gd-gX"
   },
   "source": [
    "## Testing the RBM\n"
   ]
  },
  {
   "cell_type": "code",
   "execution_count": 16,
   "metadata": {
    "colab": {
     "base_uri": "https://localhost:8080/",
     "height": 34
    },
    "colab_type": "code",
    "id": "5ztvzYRtiGCz",
    "outputId": "2b5ed305-7700-4e25-c59a-5adae77a603a"
   },
   "outputs": [
    {
     "name": "stdout",
     "output_type": "stream",
     "text": [
      "test loss: tensor(0.2465)\n"
     ]
    }
   ],
   "source": [
    "test_loss = 0\n",
    "s = 0.\n",
    "for id_user in range(nb_users):\n",
    "    v = training_set[id_user:id_user+1]\n",
    "    vt = test_set[id_user:id_user+1]\n",
    "    if len(vt[vt>=0]) > 0:\n",
    "        _,h = rbm.sample_h(v)\n",
    "        _,v = rbm.sample_v(h)\n",
    "        test_loss += torch.mean(torch.abs(vt[vt>=0] - v[vt>=0]))\n",
    "        s += 1.\n",
    "print('test loss: '+str(test_loss/s))"
   ]
  },
  {
   "cell_type": "code",
   "execution_count": null,
   "metadata": {},
   "outputs": [],
   "source": []
  }
 ],
 "metadata": {
  "colab": {
   "collapsed_sections": [],
   "name": "Boltzmann Machine.ipynb",
   "provenance": [],
   "toc_visible": true
  },
  "kernelspec": {
   "display_name": "Python 3 (ipykernel)",
   "language": "python",
   "name": "python3"
  },
  "language_info": {
   "codemirror_mode": {
    "name": "ipython",
    "version": 3
   },
   "file_extension": ".py",
   "mimetype": "text/x-python",
   "name": "python",
   "nbconvert_exporter": "python",
   "pygments_lexer": "ipython3",
   "version": "3.8.13"
  }
 },
 "nbformat": 4,
 "nbformat_minor": 1
}
