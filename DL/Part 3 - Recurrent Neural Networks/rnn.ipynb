{
 "cells": [
  {
   "cell_type": "markdown",
   "metadata": {
    "colab_type": "text",
    "id": "xpAuMVCwfWs8"
   },
   "source": [
    "# Recurrent Neural Network"
   ]
  },
  {
   "cell_type": "markdown",
   "metadata": {
    "colab_type": "text",
    "id": "nxJfRe4bfYVA"
   },
   "source": [
    "## Part 1 - Data Preprocessing"
   ]
  },
  {
   "cell_type": "markdown",
   "metadata": {
    "colab_type": "text",
    "id": "ir9zwETrfbrp"
   },
   "source": [
    "### Importing the libraries"
   ]
  },
  {
   "cell_type": "code",
   "execution_count": 82,
   "metadata": {
    "colab": {},
    "colab_type": "code",
    "id": "ZT1f24vHffuf"
   },
   "outputs": [],
   "source": [
    "import numpy as np\n",
    "import matplotlib.pyplot as plt\n",
    "import pandas as pd"
   ]
  },
  {
   "cell_type": "markdown",
   "metadata": {
    "colab_type": "text",
    "id": "nQ47JAxrgmaL"
   },
   "source": [
    "### Importing the training set"
   ]
  },
  {
   "cell_type": "code",
   "execution_count": 83,
   "metadata": {
    "colab": {},
    "colab_type": "code",
    "id": "1xiv3pJOgqY3"
   },
   "outputs": [],
   "source": [
    "dataset_train = pd.read_csv('Google_Stock_Price_Train.csv')\n",
    "training_set = dataset_train.iloc[:, 1:2].values #we take it as a range because we want the output to be a \n",
    "#numpy array and not a single vector\n"
   ]
  },
  {
   "cell_type": "markdown",
   "metadata": {
    "colab_type": "text",
    "id": "HT8_2UJegtG5"
   },
   "source": [
    "### Feature Scaling"
   ]
  },
  {
   "cell_type": "code",
   "execution_count": 84,
   "metadata": {
    "colab": {},
    "colab_type": "code",
    "id": "OTrF2kR7gx9x"
   },
   "outputs": [],
   "source": [
    "#when using RNN and sigmoid function we prefer to use normalization\n",
    "from sklearn.preprocessing import MinMaxScaler\n",
    "sc = MinMaxScaler(feature_range = (0, 1))\n",
    "#it's recommended to keep the original data set that's why we create a new variable\n",
    "training_set_scaled = sc.fit_transform(training_set)\n",
    "#fit means it's going to get the min and max from the data\n"
   ]
  },
  {
   "cell_type": "markdown",
   "metadata": {
    "colab_type": "text",
    "id": "JyYgYocqhNUg"
   },
   "source": [
    "### Creating a data structure with 60 timesteps and 1 output"
   ]
  },
  {
   "cell_type": "code",
   "execution_count": 85,
   "metadata": {
    "colab": {},
    "colab_type": "code",
    "id": "iofU21B0i6ST"
   },
   "outputs": [],
   "source": [
    "#create a data structure what for our RNN to remember in order to get it going\n",
    "#60 timesteps-> In every T step the RNN is going to look back 60 days on the stock prices before the T date\n",
    "#and it will try to predict the t+1 stock prediction\n",
    "#we expirement and start building it from 10,20,30, etc\n",
    "#first we need to create 2 entities as lists\n",
    "X_train = [] #60 days of stock market\n",
    "y_train = [] #next day results\n",
    "for i in range(60, 1258): # we need to start from the 60th day \n",
    "    X_train.append(training_set_scaled[i-60:i, 0]) #second argument is the column. We have only one so it's 0\n",
    "    y_train.append(training_set_scaled[i, 0])\n",
    "X_train, y_train = np.array(X_train), np.array(y_train)#convert into numpy array\n"
   ]
  },
  {
   "cell_type": "markdown",
   "metadata": {
    "colab_type": "text",
    "id": "D8yaN7Zvi95l"
   },
   "source": [
    "### Reshaping"
   ]
  },
  {
   "cell_type": "code",
   "execution_count": 86,
   "metadata": {
    "colab": {},
    "colab_type": "code",
    "id": "FOXqJHmNjBkz"
   },
   "outputs": [],
   "source": [
    "#we can also include some other indicators with this kind of reshape. Like another stock price that might correlate\n",
    "#with this one here.\n",
    "#we add a new dimension here\n",
    "#Anytime we want to add a new dimension we use np.reshape\n",
    "#first argument is what we want to reshape (numpy array)\n",
    "#second argument we need to specify the new shape we want our numpy array to have\n",
    "#X_train has 2 dimensions and we will add another one. Like a 3d shade Corresponding to the indicator\n",
    "\n",
    "#X_train.shape[0] corresponds to the batch_size required by the keras library. It's all the number of the stock prices \n",
    "#we have in our dataset\n",
    "#X_train.shape[1] corresponds to the timestep required by the keras library. It's the number of the timesteps\n",
    "#last one is the number of indicators required by the keras library. In this case it's 1\n",
    "X_train = np.reshape(X_train, (X_train.shape[0], X_train.shape[1], 1))\n"
   ]
  },
  {
   "cell_type": "markdown",
   "metadata": {
    "colab_type": "text",
    "id": "ZRRSOJeVjEWV"
   },
   "source": [
    "## Part 2 - Building and Training the RNN"
   ]
  },
  {
   "cell_type": "markdown",
   "metadata": {
    "colab_type": "text",
    "id": "k4XV88JMjHXG"
   },
   "source": [
    "### Importing the Keras libraries and packages"
   ]
  },
  {
   "cell_type": "code",
   "execution_count": 87,
   "metadata": {
    "colab": {
     "base_uri": "https://localhost:8080/",
     "height": 34
    },
    "colab_type": "code",
    "id": "9JRnqsxEjKsD",
    "outputId": "b3e23e78-18aa-4396-c923-c877b8de60e4"
   },
   "outputs": [],
   "source": [
    "from keras.models import Sequential\n",
    "from keras.layers import Dense\n",
    "from keras.layers import LSTM\n",
    "from keras.layers import Dropout\n"
   ]
  },
  {
   "cell_type": "markdown",
   "metadata": {
    "colab_type": "text",
    "id": "FEIE-1s9jNzC"
   },
   "source": [
    "### Initialising the RNN"
   ]
  },
  {
   "cell_type": "code",
   "execution_count": 88,
   "metadata": {
    "colab": {},
    "colab_type": "code",
    "id": "1338dJ0UjRKH"
   },
   "outputs": [],
   "source": [
    "regressor = Sequential()\n"
   ]
  },
  {
   "cell_type": "markdown",
   "metadata": {
    "colab_type": "text",
    "id": "62eg1OPGjT8z"
   },
   "source": [
    "### Adding the first LSTM layer and some Dropout regularisation"
   ]
  },
  {
   "cell_type": "code",
   "execution_count": 89,
   "metadata": {
    "colab": {},
    "colab_type": "code",
    "id": "2hIinyXUjbVU"
   },
   "outputs": [],
   "source": [
    "#We are adding an object of the LSTM class.\n",
    "#first argument = number of (units) LSTM memory units we want to have in this LSTM layer. We will call them neurons \n",
    "#for simplicity. We want our model to have very high dimensionality. We already have big dimensionality due to LSTM\n",
    "#but we can also increase by adding a lot of neurons in each LSTM. Due to the complex nature of our data (stock prices)\n",
    "#we need to have a high dimensionality\n",
    "#second argument = Return_sequences = True because we are building a stacked LSTM because there is another LSTM \n",
    "#we want to include in our network. Default value is False. We will not add it as a parameter in our last LSTM\n",
    "#third argument = input_shape we only need to include the timesteps and the number of indicators because batch_size\n",
    "#will be taken automaticly \n",
    "regressor.add(LSTM(units = 50, return_sequences = True, input_shape = (X_train.shape[1], 1)))\n",
    "regressor.add(Dropout(0.2)) #drop 20% of neurons in each layers. Recommended value\n",
    "#Drops is for forward and backwards propagation\n"
   ]
  },
  {
   "cell_type": "markdown",
   "metadata": {
    "colab_type": "text",
    "id": "3XBIYLyOjlMx"
   },
   "source": [
    "### Adding a second LSTM layer and some Dropout regularisation"
   ]
  },
  {
   "cell_type": "code",
   "execution_count": 90,
   "metadata": {
    "colab": {},
    "colab_type": "code",
    "id": "UG7nrVaSjuZ2"
   },
   "outputs": [],
   "source": [
    "#we don't have to specify input_shape thanks to the units parameter\n",
    "regressor.add(LSTM(units = 50, return_sequences = True))\n",
    "regressor.add(Dropout(0.2))\n"
   ]
  },
  {
   "cell_type": "markdown",
   "metadata": {
    "colab_type": "text",
    "id": "Ey3fHVnGj1cu"
   },
   "source": [
    "### Adding a third LSTM layer and some Dropout regularisation"
   ]
  },
  {
   "cell_type": "code",
   "execution_count": 91,
   "metadata": {
    "colab": {},
    "colab_type": "code",
    "id": "PuNi6PgFj7jO"
   },
   "outputs": [],
   "source": [
    "regressor.add(LSTM(units = 50, return_sequences = True))\n",
    "regressor.add(Dropout(0.2))\n"
   ]
  },
  {
   "cell_type": "markdown",
   "metadata": {
    "colab_type": "text",
    "id": "SYTrtfTmj933"
   },
   "source": [
    "### Adding a fourth LSTM layer and some Dropout regularisation"
   ]
  },
  {
   "cell_type": "code",
   "execution_count": 92,
   "metadata": {
    "colab": {},
    "colab_type": "code",
    "id": "Jp4Ty8fRkBYV"
   },
   "outputs": [],
   "source": [
    "regressor.add(LSTM(units = 50))\n",
    "regressor.add(Dropout(0.2))\n",
    "#added 4 LSTM layers\n"
   ]
  },
  {
   "cell_type": "markdown",
   "metadata": {
    "colab_type": "text",
    "id": "9ABI6rOIkHhk"
   },
   "source": [
    "### Adding the output layer"
   ]
  },
  {
   "cell_type": "code",
   "execution_count": 93,
   "metadata": {
    "colab": {},
    "colab_type": "code",
    "id": "aM6R1z4WkME8"
   },
   "outputs": [],
   "source": [
    "regressor.add(Dense(units = 1))\n"
   ]
  },
  {
   "cell_type": "markdown",
   "metadata": {
    "colab_type": "text",
    "id": "zLx4K7uUkPSh"
   },
   "source": [
    "### Compiling the RNN"
   ]
  },
  {
   "cell_type": "code",
   "execution_count": 94,
   "metadata": {
    "colab": {},
    "colab_type": "code",
    "id": "XTrhVN-tkbko"
   },
   "outputs": [],
   "source": [
    "regressor.compile(optimizer = 'adam', loss = 'mean_squared_error')\n",
    "#optimizer = rmsprop is recommended. Usually a good choice for RNN\n",
    "#We will use adam because it's always a good choice\n",
    "#loss function = we are not going to use binary cross entropy, due to the output we want to have\n",
    "#because we want to have a prediction of a continious result (stock prices) in this case we use mean_squared_error\n",
    "\n"
   ]
  },
  {
   "cell_type": "markdown",
   "metadata": {
    "colab_type": "text",
    "id": "-mPhwKGkkebi"
   },
   "source": [
    "### Fitting the RNN to the Training set"
   ]
  },
  {
   "cell_type": "code",
   "execution_count": 95,
   "metadata": {
    "colab": {
     "base_uri": "https://localhost:8080/",
     "height": 1000
    },
    "colab_type": "code",
    "id": "I06Nkrz5kkb-",
    "outputId": "dc9d947a-4d5c-4dbc-ed45-31bf44b98dfb"
   },
   "outputs": [
    {
     "name": "stdout",
     "output_type": "stream",
     "text": [
      "Epoch 1/100\n"
     ]
    },
    {
     "name": "stderr",
     "output_type": "stream",
     "text": [
      "2022-10-16 18:48:43.050604: I tensorflow/core/grappler/optimizers/custom_graph_optimizer_registry.cc:114] Plugin optimizer for device_type GPU is enabled.\n",
      "2022-10-16 18:48:43.326301: I tensorflow/core/grappler/optimizers/custom_graph_optimizer_registry.cc:114] Plugin optimizer for device_type GPU is enabled.\n",
      "2022-10-16 18:48:43.419036: I tensorflow/core/grappler/optimizers/custom_graph_optimizer_registry.cc:114] Plugin optimizer for device_type GPU is enabled.\n",
      "2022-10-16 18:48:43.515002: I tensorflow/core/grappler/optimizers/custom_graph_optimizer_registry.cc:114] Plugin optimizer for device_type GPU is enabled.\n",
      "2022-10-16 18:48:43.614968: I tensorflow/core/grappler/optimizers/custom_graph_optimizer_registry.cc:114] Plugin optimizer for device_type GPU is enabled.\n",
      "2022-10-16 18:48:43.721672: I tensorflow/core/grappler/optimizers/custom_graph_optimizer_registry.cc:114] Plugin optimizer for device_type GPU is enabled.\n",
      "2022-10-16 18:48:43.890137: I tensorflow/core/grappler/optimizers/custom_graph_optimizer_registry.cc:114] Plugin optimizer for device_type GPU is enabled.\n",
      "2022-10-16 18:48:44.078488: I tensorflow/core/grappler/optimizers/custom_graph_optimizer_registry.cc:114] Plugin optimizer for device_type GPU is enabled.\n"
     ]
    },
    {
     "name": "stdout",
     "output_type": "stream",
     "text": [
      "\r",
      " 1/38 [..............................] - ETA: 1:41 - loss: 0.2752"
     ]
    },
    {
     "name": "stderr",
     "output_type": "stream",
     "text": [
      "2022-10-16 18:48:44.247722: I tensorflow/core/grappler/optimizers/custom_graph_optimizer_registry.cc:114] Plugin optimizer for device_type GPU is enabled.\n"
     ]
    },
    {
     "name": "stdout",
     "output_type": "stream",
     "text": [
      "38/38 [==============================] - 6s 80ms/step - loss: 0.0339\n",
      "Epoch 2/100\n",
      "38/38 [==============================] - 2s 58ms/step - loss: 0.0045\n",
      "Epoch 3/100\n",
      "38/38 [==============================] - 2s 58ms/step - loss: 0.0035\n",
      "Epoch 4/100\n",
      "38/38 [==============================] - 2s 57ms/step - loss: 0.0030\n",
      "Epoch 5/100\n",
      "38/38 [==============================] - 2s 59ms/step - loss: 0.0027\n",
      "Epoch 6/100\n",
      "38/38 [==============================] - 2s 58ms/step - loss: 0.0024\n",
      "Epoch 7/100\n",
      "38/38 [==============================] - 2s 57ms/step - loss: 0.0023\n",
      "Epoch 8/100\n",
      "38/38 [==============================] - 2s 59ms/step - loss: 0.0025\n",
      "Epoch 9/100\n",
      "38/38 [==============================] - 2s 56ms/step - loss: 0.0021\n",
      "Epoch 10/100\n",
      "38/38 [==============================] - 2s 61ms/step - loss: 0.0021\n",
      "Epoch 11/100\n",
      "38/38 [==============================] - 2s 57ms/step - loss: 0.0024\n",
      "Epoch 12/100\n",
      "38/38 [==============================] - 2s 57ms/step - loss: 0.0020\n",
      "Epoch 13/100\n",
      "38/38 [==============================] - 2s 58ms/step - loss: 0.0019\n",
      "Epoch 14/100\n",
      "38/38 [==============================] - 2s 56ms/step - loss: 0.0017\n",
      "Epoch 15/100\n",
      "38/38 [==============================] - 2s 57ms/step - loss: 0.0018\n",
      "Epoch 16/100\n",
      "38/38 [==============================] - 2s 57ms/step - loss: 0.0018\n",
      "Epoch 17/100\n",
      "38/38 [==============================] - 2s 57ms/step - loss: 0.0016\n",
      "Epoch 18/100\n",
      "38/38 [==============================] - 2s 57ms/step - loss: 0.0016\n",
      "Epoch 19/100\n",
      "38/38 [==============================] - 2s 57ms/step - loss: 0.0022\n",
      "Epoch 20/100\n",
      "38/38 [==============================] - 2s 57ms/step - loss: 0.0019\n",
      "Epoch 21/100\n",
      "38/38 [==============================] - 2s 57ms/step - loss: 0.0017\n",
      "Epoch 22/100\n",
      "38/38 [==============================] - 2s 58ms/step - loss: 0.0016\n",
      "Epoch 23/100\n",
      "38/38 [==============================] - 2s 58ms/step - loss: 0.0017\n",
      "Epoch 24/100\n",
      "38/38 [==============================] - 2s 59ms/step - loss: 0.0014\n",
      "Epoch 25/100\n",
      "38/38 [==============================] - 2s 59ms/step - loss: 0.0015\n",
      "Epoch 26/100\n",
      "38/38 [==============================] - 2s 55ms/step - loss: 0.0016\n",
      "Epoch 27/100\n",
      "38/38 [==============================] - 2s 56ms/step - loss: 0.0014\n",
      "Epoch 28/100\n",
      "38/38 [==============================] - 2s 54ms/step - loss: 0.0014\n",
      "Epoch 29/100\n",
      "38/38 [==============================] - 2s 57ms/step - loss: 0.0013\n",
      "Epoch 30/100\n",
      "38/38 [==============================] - 2s 60ms/step - loss: 0.0018\n",
      "Epoch 31/100\n",
      "38/38 [==============================] - 2s 58ms/step - loss: 0.0015\n",
      "Epoch 32/100\n",
      "38/38 [==============================] - 2s 58ms/step - loss: 0.0014\n",
      "Epoch 33/100\n",
      "38/38 [==============================] - 2s 57ms/step - loss: 0.0013\n",
      "Epoch 34/100\n",
      "38/38 [==============================] - 2s 58ms/step - loss: 0.0013\n",
      "Epoch 35/100\n",
      "38/38 [==============================] - 2s 57ms/step - loss: 0.0012\n",
      "Epoch 36/100\n",
      "38/38 [==============================] - 2s 57ms/step - loss: 0.0015\n",
      "Epoch 37/100\n",
      "38/38 [==============================] - 2s 57ms/step - loss: 0.0013\n",
      "Epoch 38/100\n",
      "38/38 [==============================] - 2s 58ms/step - loss: 0.0013\n",
      "Epoch 39/100\n",
      "38/38 [==============================] - 2s 57ms/step - loss: 0.0012\n",
      "Epoch 40/100\n",
      "38/38 [==============================] - 2s 57ms/step - loss: 0.0012\n",
      "Epoch 41/100\n",
      "38/38 [==============================] - 2s 58ms/step - loss: 0.0013\n",
      "Epoch 42/100\n",
      "38/38 [==============================] - 2s 58ms/step - loss: 0.0013\n",
      "Epoch 43/100\n",
      "38/38 [==============================] - 2s 59ms/step - loss: 0.0014\n",
      "Epoch 44/100\n",
      "38/38 [==============================] - 2s 60ms/step - loss: 0.0012\n",
      "Epoch 45/100\n",
      "38/38 [==============================] - 2s 59ms/step - loss: 0.0014\n",
      "Epoch 46/100\n",
      "38/38 [==============================] - 2s 59ms/step - loss: 0.0012\n",
      "Epoch 47/100\n",
      "38/38 [==============================] - 2s 59ms/step - loss: 0.0011\n",
      "Epoch 48/100\n",
      "38/38 [==============================] - 2s 59ms/step - loss: 0.0011\n",
      "Epoch 49/100\n",
      "38/38 [==============================] - 2s 60ms/step - loss: 9.7953e-04\n",
      "Epoch 50/100\n",
      "38/38 [==============================] - 2s 60ms/step - loss: 9.8477e-04\n",
      "Epoch 51/100\n",
      "38/38 [==============================] - 2s 59ms/step - loss: 9.7322e-04\n",
      "Epoch 52/100\n",
      "38/38 [==============================] - 2s 59ms/step - loss: 9.3702e-04\n",
      "Epoch 53/100\n",
      "38/38 [==============================] - 2s 59ms/step - loss: 0.0010\n",
      "Epoch 54/100\n",
      "38/38 [==============================] - 2s 59ms/step - loss: 9.1651e-04\n",
      "Epoch 55/100\n",
      "38/38 [==============================] - 2s 59ms/step - loss: 9.1045e-04\n",
      "Epoch 56/100\n",
      "38/38 [==============================] - 2s 60ms/step - loss: 9.4354e-04\n",
      "Epoch 57/100\n",
      "38/38 [==============================] - 2s 59ms/step - loss: 9.3394e-04\n",
      "Epoch 58/100\n",
      "38/38 [==============================] - 2s 59ms/step - loss: 8.8822e-04\n",
      "Epoch 59/100\n",
      "38/38 [==============================] - 2s 59ms/step - loss: 8.2057e-04\n",
      "Epoch 60/100\n",
      "38/38 [==============================] - 2s 59ms/step - loss: 8.0347e-04\n",
      "Epoch 61/100\n",
      "38/38 [==============================] - 2s 58ms/step - loss: 7.9293e-04\n",
      "Epoch 62/100\n",
      "38/38 [==============================] - 2s 57ms/step - loss: 7.3815e-04\n",
      "Epoch 63/100\n",
      "38/38 [==============================] - 2s 57ms/step - loss: 7.1732e-04\n",
      "Epoch 64/100\n",
      "38/38 [==============================] - 2s 54ms/step - loss: 7.4105e-04\n",
      "Epoch 65/100\n",
      "38/38 [==============================] - 2s 53ms/step - loss: 6.8988e-04\n",
      "Epoch 66/100\n",
      "38/38 [==============================] - 2s 54ms/step - loss: 6.8226e-04\n",
      "Epoch 67/100\n",
      "38/38 [==============================] - 2s 53ms/step - loss: 7.6730e-04\n",
      "Epoch 68/100\n",
      "38/38 [==============================] - 2s 53ms/step - loss: 6.8106e-04\n",
      "Epoch 69/100\n",
      "38/38 [==============================] - 2s 53ms/step - loss: 6.5856e-04\n",
      "Epoch 70/100\n",
      "38/38 [==============================] - 2s 53ms/step - loss: 6.9561e-04\n",
      "Epoch 71/100\n",
      "38/38 [==============================] - 2s 53ms/step - loss: 6.6293e-04\n",
      "Epoch 72/100\n",
      "38/38 [==============================] - 2s 53ms/step - loss: 6.6540e-04\n",
      "Epoch 73/100\n",
      "38/38 [==============================] - 2s 53ms/step - loss: 6.0637e-04\n",
      "Epoch 74/100\n",
      "38/38 [==============================] - 2s 53ms/step - loss: 6.6063e-04\n",
      "Epoch 75/100\n",
      "38/38 [==============================] - 2s 53ms/step - loss: 6.0625e-04\n",
      "Epoch 76/100\n",
      "38/38 [==============================] - 2s 53ms/step - loss: 5.4766e-04\n",
      "Epoch 77/100\n",
      "38/38 [==============================] - 2s 56ms/step - loss: 8.0591e-04\n",
      "Epoch 78/100\n",
      "38/38 [==============================] - 2s 58ms/step - loss: 5.7247e-04\n",
      "Epoch 79/100\n",
      "38/38 [==============================] - 2s 58ms/step - loss: 5.7832e-04\n",
      "Epoch 80/100\n",
      "38/38 [==============================] - 2s 58ms/step - loss: 5.5831e-04\n",
      "Epoch 81/100\n",
      "38/38 [==============================] - 2s 59ms/step - loss: 5.1535e-04\n",
      "Epoch 82/100\n",
      "38/38 [==============================] - 2s 59ms/step - loss: 4.9846e-04\n",
      "Epoch 83/100\n",
      "38/38 [==============================] - 2s 59ms/step - loss: 5.1333e-04\n",
      "Epoch 84/100\n",
      "38/38 [==============================] - 2s 59ms/step - loss: 4.7939e-04\n",
      "Epoch 85/100\n",
      "38/38 [==============================] - 2s 59ms/step - loss: 4.8440e-04\n",
      "Epoch 86/100\n",
      "38/38 [==============================] - 2s 59ms/step - loss: 4.7046e-04\n",
      "Epoch 87/100\n",
      "38/38 [==============================] - 2s 58ms/step - loss: 5.3906e-04\n",
      "Epoch 88/100\n",
      "38/38 [==============================] - 2s 59ms/step - loss: 4.9575e-04\n",
      "Epoch 89/100\n",
      "38/38 [==============================] - 2s 59ms/step - loss: 4.7773e-04\n",
      "Epoch 90/100\n",
      "38/38 [==============================] - 2s 60ms/step - loss: 5.3419e-04\n",
      "Epoch 91/100\n",
      "38/38 [==============================] - 2s 59ms/step - loss: 4.8146e-04\n",
      "Epoch 92/100\n",
      "38/38 [==============================] - 2s 59ms/step - loss: 5.0584e-04\n",
      "Epoch 93/100\n",
      "38/38 [==============================] - 2s 59ms/step - loss: 6.3845e-04\n",
      "Epoch 94/100\n",
      "38/38 [==============================] - 2s 60ms/step - loss: 5.4588e-04\n",
      "Epoch 95/100\n",
      "38/38 [==============================] - 2s 59ms/step - loss: 4.5902e-04\n",
      "Epoch 96/100\n",
      "38/38 [==============================] - 2s 59ms/step - loss: 6.2337e-04\n",
      "Epoch 97/100\n",
      "38/38 [==============================] - 2s 58ms/step - loss: 4.6458e-04\n",
      "Epoch 98/100\n",
      "38/38 [==============================] - 2s 57ms/step - loss: 4.6465e-04\n",
      "Epoch 99/100\n",
      "38/38 [==============================] - 2s 58ms/step - loss: 4.9115e-04\n",
      "Epoch 100/100\n",
      "38/38 [==============================] - 2s 57ms/step - loss: 5.4379e-04\n"
     ]
    },
    {
     "data": {
      "text/plain": [
       "<keras.callbacks.History at 0x2bb9d95e0>"
      ]
     },
     "execution_count": 95,
     "metadata": {},
     "output_type": "execute_result"
    }
   ],
   "source": [
    "#we try with different epoch in order to get the most desired results. We don't have that much data.\n",
    "#batch_size. Our network is going the get trained in batches of stock prices and not a single one.\n",
    "#we will do backpropagate and train every 32 stock prices\n",
    "\n",
    "regressor.fit(X_train, y_train, epochs = 100, batch_size = 32)\n",
    "\n"
   ]
  },
  {
   "cell_type": "markdown",
   "metadata": {
    "colab_type": "text",
    "id": "4hRau_lIkrE8"
   },
   "source": [
    "## Part 3 - Making the predictions and visualising the results"
   ]
  },
  {
   "cell_type": "markdown",
   "metadata": {
    "colab_type": "text",
    "id": "SgJO6qEDksxD"
   },
   "source": [
    "### Getting the real stock price of 2017"
   ]
  },
  {
   "cell_type": "code",
   "execution_count": 99,
   "metadata": {
    "colab": {},
    "colab_type": "code",
    "id": "FmBT2zqukxTz"
   },
   "outputs": [],
   "source": [
    "dataset_test = pd.read_csv('Google_Stock_Price_Test.csv')\n",
    "real_stock_price = dataset_test.iloc[:, 1:2].values\n"
   ]
  },
  {
   "cell_type": "markdown",
   "metadata": {
    "colab_type": "text",
    "id": "GrvrLblxkz42"
   },
   "source": [
    "\n",
    "### Getting the predicted stock price of 2017"
   ]
  },
  {
   "cell_type": "code",
   "execution_count": 109,
   "metadata": {
    "colab": {},
    "colab_type": "code",
    "id": "emikTvUpk3Ck"
   },
   "outputs": [
    {
     "name": "stdout",
     "output_type": "stream",
     "text": [
      "1/1 [==============================] - 0s 55ms/step\n"
     ]
    },
    {
     "name": "stderr",
     "output_type": "stream",
     "text": [
      "/var/folders/f2/gq8xgm9x491cqwtct_tgpy0h0000gn/T/ipykernel_51224/1796624995.py:7: FutureWarning: The behavior of `series[i:j]` with an integer-dtype index is deprecated. In a future version, this will be treated as *label-based* indexing, consistent with e.g. `series[i]` lookups. To retain the old behavior, use `series.iloc[i:j]`. To get the future behavior, use `series.loc[i:j]`.\n",
      "  inputs = dataset_total[len(dataset_total) - len(dataset_test) - 60:].values\n"
     ]
    }
   ],
   "source": [
    "#We should never touch the test values and change them\n",
    "#concatinate the rows or the columns? axis = 0 means we take the lines together/ along the vertical access.\n",
    "#horizontal = 1 and vertical = 0\n",
    "dataset_total = pd.concat((dataset_train['Open'], dataset_test['Open']), axis = 0)\n",
    "#we want the data from the last 3 months in order to predict t+1\n",
    "#adding .value to make numpy array\n",
    "inputs = dataset_total[len(dataset_total) - len(dataset_test) - 60:].values \n",
    "inputs = inputs.reshape(-1,1)\n",
    "inputs = sc.transform(inputs)\n",
    "X_test = []\n",
    "for i in range(60, 80):\n",
    "    X_test.append(inputs[i-60:i, 0])\n",
    "X_test = np.array(X_test)\n",
    "X_test = np.reshape(X_test, (X_test.shape[0], X_test.shape[1], 1))\n",
    "predicted_stock_price = regressor.predict(X_test)\n",
    "predicted_stock_price = sc.inverse_transform(predicted_stock_price)\n"
   ]
  },
  {
   "cell_type": "markdown",
   "metadata": {
    "colab_type": "text",
    "id": "iFTNs3YHk6FQ"
   },
   "source": [
    "### Visualising the results\n"
   ]
  },
  {
   "cell_type": "code",
   "execution_count": 101,
   "metadata": {
    "colab": {
     "base_uri": "https://localhost:8080/",
     "height": 295
    },
    "colab_type": "code",
    "id": "8OUI8U49k9tH",
    "outputId": "db0ed15e-071b-4bae-955e-0eda3df95238"
   },
   "outputs": [
    {
     "data": {
      "image/png": "[encoded data removed]",
      "text/plain": [
       "<Figure size 640x480 with 1 Axes>"
      ]
     },
     "metadata": {},
     "output_type": "display_data"
    }
   ],
   "source": [
    "plt.plot(real_stock_price, color = 'red', label = 'Real Google Stock Price')\n",
    "plt.plot(predicted_stock_price, color = 'blue', label = 'Predicted Google Stock Price')\n",
    "plt.title('Google Stock Price Prediction')\n",
    "plt.xlabel('Time')\n",
    "plt.ylabel('Google Stock Price')\n",
    "plt.legend()\n",
    "plt.show()\n"
   ]
  },
  {
   "cell_type": "code",
   "execution_count": null,
   "metadata": {},
   "outputs": [],
   "source": []
  }
 ],
 "metadata": {
  "colab": {
   "collapsed_sections": [],
   "name": "recurrent_neural_network.ipynb",
   "provenance": []
  },
  "kernelspec": {
   "display_name": "Python 3 (ipykernel)",
   "language": "python",
   "name": "python3"
  },
  "language_info": {
   "codemirror_mode": {
    "name": "ipython",
    "version": 3
   },
   "file_extension": ".py",
   "mimetype": "text/x-python",
   "name": "python",
   "nbconvert_exporter": "python",
   "pygments_lexer": "ipython3",
   "version": "3.8.13"
  }
 },
 "nbformat": 4,
 "nbformat_minor": 1
}
